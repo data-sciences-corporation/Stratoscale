{
 "cells": [
  {
   "cell_type": "code",
   "execution_count": 1,
   "metadata": {},
   "outputs": [],
   "source": [
    "import sys  # For running system level commands\n",
    "import yaml  # For reading the config file\n",
    "import os  # For path tools\n",
    "import requests  # For symphony client\n",
    "import symphony_client  # For connecting to Symphony region\n",
    "import purestorage  # For running Pure Storage commands\n",
    "from pip._vendor.distlib.compat import raw_input\n",
    "import datetime\n",
    "from pytz import timezone\n",
    "import pytz  # To add timezone to datetime"
   ]
  },
  {
   "cell_type": "code",
   "execution_count": 2,
   "metadata": {
    "scrolled": true
   },
   "outputs": [],
   "source": [
    "#!{sys.executable} -m pip install purestorage\n",
    "#!{sys.executable} -m pip install pyyaml"
   ]
  },
  {
   "cell_type": "code",
   "execution_count": 3,
   "metadata": {},
   "outputs": [
    {
     "name": "stdout",
     "output_type": "stream",
     "text": [
      "[INIT] Initialising script.\n"
     ]
    }
   ],
   "source": [
    "print(u\"[INIT] Initialising script.\")\n",
    "# Configure environment\n",
    "tz_utc = pytz.timezone(\"UTC\") # Set timezone for data source\n",
    "current_day= [\"ISO Week days start from 1\",\"Mon\",\"Tues\",\"Wed\",\"Thurs\",\"Fri\",\"Sat\",\"Sun\"]\n",
    "rootpath = os.path.dirname(os.path.realpath('__file__'))  # Get the root path"
   ]
  },
  {
   "cell_type": "code",
   "execution_count": 4,
   "metadata": {},
   "outputs": [
    {
     "name": "stdout",
     "output_type": "stream",
     "text": [
      " [✓] Config file loaded.\n"
     ]
    }
   ],
   "source": [
    "# Import config file data\n",
    "with open(rootpath + '/config.yml', 'r') as stream:\n",
    "    try:\n",
    "        config = yaml.safe_load(stream)\n",
    "        print(u\" [\\u2713] Config file loaded.\")\n",
    "    except yaml.YAMLError as exc:\n",
    "        print(u\" [\\u2717] Could not load the config file.\")\n",
    "        print(exc)\n",
    "        exit()"
   ]
  },
  {
   "cell_type": "code",
   "execution_count": 5,
   "metadata": {},
   "outputs": [
    {
     "name": "stdout",
     "output_type": "stream",
     "text": [
      " [✓] Stratoscale user region [https://192.168.101.100] session established.\n",
      " [✓] Stratoscale cloud admin region [https://192.168.101.100] session established.\n"
     ]
    }
   ],
   "source": [
    "# Configure Stratoscale API connection\n",
    "symp_url = \"https://\" + config[\"region_access\"][\"ipaddress\"]\n",
    "symp_domain = config[\"region_access\"][\"cloud_domain\"]\n",
    "symp_user = config[\"region_access\"][\"cloud_user\"]\n",
    "symp_password = config[\"region_access\"][\"cloud_password\"]\n",
    "symp_cloud_admin_password = config[\"region_access\"][\"cloud_admin_password\"]\n",
    "symp_project = config[\"region_access\"][\"project\"],\n",
    "\n",
    "my_session = requests.Session()\n",
    "my_admin_session = requests.Session()\n",
    "my_session.verify = False\n",
    "my_admin_session.verify = False\n",
    "\n",
    "try:\n",
    "    client = symphony_client.Client(url=symp_url, session=my_session)\n",
    "    client_login = client.login(domain=symp_domain, username=symp_user, password=symp_password,project=symp_project)\n",
    "    print(u\" [\\u2713] Stratoscale user region [{}] session established.\".format(symp_url))\n",
    "except:\n",
    "    print(u\" [\\u2717] Could not connect to the Stratosacle region [{}] as user\".format(symp_url))\n",
    "    exit()\n",
    "\n",
    "try:\n",
    "    client_admin = symphony_client.Client(url=symp_url, session=my_admin_session)\n",
    "    client_admin_login = client_admin.login(domain=\"cloud_admin\", username=\"admin\", password=symp_cloud_admin_password,project=\"default\")\n",
    "    print(u\" [\\u2713] Stratoscale cloud admin region [{}] session established.\".format(symp_url))\n",
    "except:\n",
    "    print(u\" [\\u2717] Could not connect to the Stratosacle region [{}] as cloud admin\".format(symp_url))\n",
    "    exit()\n"
   ]
  },
  {
   "cell_type": "code",
   "execution_count": 6,
   "metadata": {},
   "outputs": [
    {
     "name": "stdout",
     "output_type": "stream",
     "text": [
      " [✓] FlashArray dsclabpure02 [172.16.100.10] (version 5.1.6) REST session established!\n"
     ]
    }
   ],
   "source": [
    "#Configure Pure Storage API Connection\n",
    "pureip = str(config['purestoragearray']['ipaddress'])\n",
    "puretoken = str(config['purestoragearray']['apitoken'])\n",
    "array = purestorage.FlashArray(pureip, api_token=puretoken)\n",
    "try:\n",
    "    array_info = array.get()\n",
    "    print(u\" [\\u2713] FlashArray {} [{}] (version {}) REST session established!\".format(array_info['array_name'],\n",
    "                                                                                pureip, array_info['version']))\n",
    "except:\n",
    "    print(u\" [\\u2717] Could not connect to the Pure Storage array - IP [\" + pureip + \"]\")\n",
    "    exit()"
   ]
  },
  {
   "cell_type": "code",
   "execution_count": 7,
   "metadata": {},
   "outputs": [
    {
     "name": "stdout",
     "output_type": "stream",
     "text": [
      "[>] Please input the database ID for the database you wish to recover a new DB from: 8d75b8e6-0a41-43b8-bb0a-787f81ed2537\n",
      "[>] Please input the DB password: admin\n"
     ]
    }
   ],
   "source": [
    "try:\n",
    "    dbs_id = raw_input(\"[>] Please input the database ID for the database you wish to recover a new DB from: \").lower()\n",
    "    dbs_master_password = \"NoPasswordRequired\"\n",
    "    #dbs_master_password = raw_input(\"[>] Please input the DB password: \")\n",
    "    #dbs_id = \"a5f089a9-e0f8-41aa-aba9-222e53005400\"\n",
    "except:\n",
    "    print(u\" [\\u2717] Failed to collect the input data. Please try again.\")\n",
    "    exit()"
   ]
  },
  {
   "cell_type": "code",
   "execution_count": 8,
   "metadata": {},
   "outputs": [
    {
     "name": "stdout",
     "output_type": "stream",
     "text": [
      "[SOURCE DB] Collecting information from original DB [8d75b8e6-0a41-43b8-bb0a-787f81ed2537].\n",
      " [✓] VPC ID\t\t\t\t> e4d10915-1bf1-4f3c-9b6d-a5b2542991c2\n",
      " [✓] Storage Pool ID (Default)\t\t> fbc2f16d-ec30-4102-8464-fad7fd725a62\n",
      " [✓] Source DB Name\t\t\t> dbs_postgresql11_01\n",
      " [✓] Source DB Engine Version ID\t> 0a2db9aa-9a13-467c-b1be-555afbf63279\n",
      " [✓] Source DB Network ID\t\t> e96e820b-383a-4bc3-a64d-6127d05f6c16\n",
      " [✓] Source DB Master Username\t\t> admin\n",
      " [✓] Source DB Master DB Name\t\t> db\n",
      " [✓] Source DB Instance Type\t\t> m1.medium\n",
      " [✓] Source DB Instance Project ID\t> 30907850ff5a48a2add1532672944420\n",
      " [✓] Source DB Parameter Group ID\t> de7be801-f319-4731-9ed7-44ef7bfbb8e6\n",
      " [✓] Source DB Security Group ID\t> 35c1ff5c-9d5c-4706-9ae6-1ad7cbabcda2\n",
      " [✓] Source DB Volume ID\t\t> dec1c66e-9c4a-4889-9fe7-37433ed7faa2\n"
     ]
    }
   ],
   "source": [
    "# Collect source DB data\n",
    "print(u\"[SOURCE DB] Collecting information from original DB [{}].\".format(dbs_id))\n",
    "database=client.dbs.instance.get(dbs_id)\n",
    "# Environmentals\n",
    "dbs_vpc_id = client.vpcs.list()[0].get(\"id\")\n",
    "print(u\" [\\u2713] VPC ID\\t\\t\\t\\t> {}\".format(dbs_vpc_id))\n",
    "dbs_storage_pool_id = client.melet.pools.get_default()\n",
    "print(u\" [\\u2713] Storage Pool ID (Default)\\t\\t> {}\".format(dbs_storage_pool_id))\n",
    "# Get Database Metadata\n",
    "dbs_original_name = database.get(\"name\")\n",
    "print(u\" [\\u2713] Source DB Name\\t\\t\\t> {}\".format(dbs_original_name))\n",
    "dbs_engine_version_id = database.get(\"engine_version_id\")\n",
    "print(u\" [\\u2713] Source DB Engine Version ID\\t> {}\".format(dbs_engine_version_id))\n",
    "dbs_network_id = database.get(\"network_id\")\n",
    "print(u\" [\\u2713] Source DB Network ID\\t\\t> {}\".format(dbs_network_id))\n",
    "dbs_master_username = database.get(\"master_user_name\")\n",
    "print(u\" [\\u2713] Source DB Master Username\\t\\t> {}\".format(dbs_master_username))\n",
    "dbs_master_db_name = database.get(\"db_name\")\n",
    "print(u\" [\\u2713] Source DB Master DB Name\\t\\t> {}\".format(dbs_master_db_name))\n",
    "dbs_instance_type = database.get(\"instance_type\")\n",
    "print(u\" [\\u2713] Source DB Instance Type\\t\\t> {}\".format(dbs_instance_type))\n",
    "dbs_project_id = database.get(\"project_id\")\n",
    "print(u\" [\\u2713] Source DB Instance Project ID\\t> {}\".format(dbs_project_id))\n",
    "dbs_parameter_group_id = database.get(\"parameter_group_id\")\n",
    "print(u\" [\\u2713] Source DB Parameter Group ID\\t> {}\".format(dbs_parameter_group_id))\n",
    "dbs_security_group_id = database.get(\"security_group_id\")\n",
    "print(u\" [\\u2713] Source DB Security Group ID\\t> {}\".format(dbs_security_group_id))\n",
    "db_vm_data_vol_id = client.vms.get(database.vm_id).get(\"volumes\")[0]\n",
    "print(u\" [\\u2713] Source DB Volume ID\\t\\t> {}\".format(db_vm_data_vol_id))"
   ]
  },
  {
   "cell_type": "code",
   "execution_count": 9,
   "metadata": {},
   "outputs": [
    {
     "name": "stdout",
     "output_type": "stream",
     "text": [
      "u[RECOVERY POINT] Identifying recovery/restore point for DB [8d75b8e6-0a41-43b8-bb0a-787f81ed2537].\n",
      " [✓] Snapshot/s exist for the source volume.\n",
      " [1]\t15:39:30 11/09/2019 [Wed] \tdscstrato-backup.33691.volume-dec1c66e-9c4a-4889-9fe7-37433ed7faa2-cinder \n",
      " [2]\t14:29:00 12/09/2019 [Thurs] \tdscstrato-backup.33965.volume-dec1c66e-9c4a-4889-9fe7-37433ed7faa2-cinder \n",
      " [3]\t14:28:30 13/09/2019 [Fri] \tdscstrato-backup.34253.volume-dec1c66e-9c4a-4889-9fe7-37433ed7faa2-cinder \n",
      " [4]\t13:18:00 14/09/2019 [Sat] \tdscstrato-backup.34527.volume-dec1c66e-9c4a-4889-9fe7-37433ed7faa2-cinder \n",
      " [5]\t13:17:30 15/09/2019 [Sun] \tdscstrato-backup.34815.volume-dec1c66e-9c4a-4889-9fe7-37433ed7faa2-cinder \n",
      " [6]\t12:07:30 16/09/2019 [Mon] \tdscstrato-backup.35089.volume-dec1c66e-9c4a-4889-9fe7-37433ed7faa2-cinder \n",
      " [7]\t12:07:00 17/09/2019 [Tues] \tdscstrato-backup.35377.volume-dec1c66e-9c4a-4889-9fe7-37433ed7faa2-cinder \n",
      " [8]\t10:56:30 18/09/2019 [Wed] \tdscstrato-backup.35651.volume-dec1c66e-9c4a-4889-9fe7-37433ed7faa2-cinder \n",
      " [9]\t10:56:00 19/09/2019 [Thurs] \tdscstrato-backup.35939.volume-dec1c66e-9c4a-4889-9fe7-37433ed7faa2-cinder \n",
      " [10]\t09:45:30 20/09/2019 [Fri] \tdscstrato-backup.36213.volume-dec1c66e-9c4a-4889-9fe7-37433ed7faa2-cinder \n",
      " [11]\t09:45:00 21/09/2019 [Sat] \tdscstrato-backup.36501.volume-dec1c66e-9c4a-4889-9fe7-37433ed7faa2-cinder \n",
      " [12]\t08:34:30 22/09/2019 [Sun] \tdscstrato-backup.36775.volume-dec1c66e-9c4a-4889-9fe7-37433ed7faa2-cinder \n",
      " [13]\t08:34:00 23/09/2019 [Mon] \tdscstrato-backup.37063.volume-dec1c66e-9c4a-4889-9fe7-37433ed7faa2-cinder \n",
      " [14]\t13:19:00 23/09/2019 [Mon] \tdscstrato-backup.37120.volume-dec1c66e-9c4a-4889-9fe7-37433ed7faa2-cinder \n",
      " [15]\t13:24:00 23/09/2019 [Mon] \tdscstrato-backup.37121.volume-dec1c66e-9c4a-4889-9fe7-37433ed7faa2-cinder \n",
      " [16]\t13:29:00 23/09/2019 [Mon] \tdscstrato-backup.37122.volume-dec1c66e-9c4a-4889-9fe7-37433ed7faa2-cinder \n",
      " [17]\t13:34:00 23/09/2019 [Mon] \tdscstrato-backup.37123.volume-dec1c66e-9c4a-4889-9fe7-37433ed7faa2-cinder \n",
      " [18]\t13:39:00 23/09/2019 [Mon] \tdscstrato-backup.37124.volume-dec1c66e-9c4a-4889-9fe7-37433ed7faa2-cinder \n",
      " [19]\t13:44:00 23/09/2019 [Mon] \tdscstrato-backup.37125.volume-dec1c66e-9c4a-4889-9fe7-37433ed7faa2-cinder \n",
      " [20]\t13:49:00 23/09/2019 [Mon] \tdscstrato-backup.37126.volume-dec1c66e-9c4a-4889-9fe7-37433ed7faa2-cinder \n",
      " [21]\t13:54:00 23/09/2019 [Mon] \tdscstrato-backup.37127.volume-dec1c66e-9c4a-4889-9fe7-37433ed7faa2-cinder \n",
      " [22]\t13:59:00 23/09/2019 [Mon] \tdscstrato-backup.37128.volume-dec1c66e-9c4a-4889-9fe7-37433ed7faa2-cinder \n",
      " [23]\t14:04:00 23/09/2019 [Mon] \tdscstrato-backup.37129.volume-dec1c66e-9c4a-4889-9fe7-37433ed7faa2-cinder \n",
      " [24]\t14:09:00 23/09/2019 [Mon] \tdscstrato-backup.37130.volume-dec1c66e-9c4a-4889-9fe7-37433ed7faa2-cinder \n",
      " [25]\t14:14:00 23/09/2019 [Mon] \tdscstrato-backup.37131.volume-dec1c66e-9c4a-4889-9fe7-37433ed7faa2-cinder \n",
      " [26]\t14:19:00 23/09/2019 [Mon] \tdscstrato-backup.37132.volume-dec1c66e-9c4a-4889-9fe7-37433ed7faa2-cinder \n",
      " [27]\t14:24:00 23/09/2019 [Mon] \tdscstrato-backup.37133.volume-dec1c66e-9c4a-4889-9fe7-37433ed7faa2-cinder \n",
      " [28]\t14:29:00 23/09/2019 [Mon] \tdscstrato-backup.37134.volume-dec1c66e-9c4a-4889-9fe7-37433ed7faa2-cinder \n",
      " [29]\t14:34:00 23/09/2019 [Mon] \tdscstrato-backup.37135.volume-dec1c66e-9c4a-4889-9fe7-37433ed7faa2-cinder \n",
      " [30]\t14:39:00 23/09/2019 [Mon] \tdscstrato-backup.37136.volume-dec1c66e-9c4a-4889-9fe7-37433ed7faa2-cinder \n",
      " [31]\t14:44:00 23/09/2019 [Mon] \tdscstrato-backup.37137.volume-dec1c66e-9c4a-4889-9fe7-37433ed7faa2-cinder \n",
      " [32]\t14:49:00 23/09/2019 [Mon] \tdscstrato-backup.37138.volume-dec1c66e-9c4a-4889-9fe7-37433ed7faa2-cinder \n",
      " [33]\t14:54:00 23/09/2019 [Mon] \tdscstrato-backup.37139.volume-dec1c66e-9c4a-4889-9fe7-37433ed7faa2-cinder \n",
      " [34]\t14:59:00 23/09/2019 [Mon] \tdscstrato-backup.37140.volume-dec1c66e-9c4a-4889-9fe7-37433ed7faa2-cinder \n",
      " [35]\t15:04:00 23/09/2019 [Mon] \tdscstrato-backup.37141.volume-dec1c66e-9c4a-4889-9fe7-37433ed7faa2-cinder \n",
      " [36]\t15:09:00 23/09/2019 [Mon] \tdscstrato-backup.37142.volume-dec1c66e-9c4a-4889-9fe7-37433ed7faa2-cinder \n",
      " [37]\t15:14:00 23/09/2019 [Mon] \tdscstrato-backup.37143.volume-dec1c66e-9c4a-4889-9fe7-37433ed7faa2-cinder \n",
      " [38]\t15:19:00 23/09/2019 [Mon] \tdscstrato-backup.37144.volume-dec1c66e-9c4a-4889-9fe7-37433ed7faa2-cinder \n",
      " [39]\t15:24:00 23/09/2019 [Mon] \tdscstrato-backup.37145.volume-dec1c66e-9c4a-4889-9fe7-37433ed7faa2-cinder \n",
      " [40]\t15:29:00 23/09/2019 [Mon] \tdscstrato-backup.37146.volume-dec1c66e-9c4a-4889-9fe7-37433ed7faa2-cinder \n",
      " [41]\t15:34:00 23/09/2019 [Mon] \tdscstrato-backup.37147.volume-dec1c66e-9c4a-4889-9fe7-37433ed7faa2-cinder \n",
      " [42]\t15:39:00 23/09/2019 [Mon] \tdscstrato-backup.37148.volume-dec1c66e-9c4a-4889-9fe7-37433ed7faa2-cinder \n",
      " [43]\t15:44:00 23/09/2019 [Mon] \tdscstrato-backup.37149.volume-dec1c66e-9c4a-4889-9fe7-37433ed7faa2-cinder \n",
      " [44]\t15:49:00 23/09/2019 [Mon] \tdscstrato-backup.37150.volume-dec1c66e-9c4a-4889-9fe7-37433ed7faa2-cinder \n",
      " [45]\t15:54:00 23/09/2019 [Mon] \tdscstrato-backup.37151.volume-dec1c66e-9c4a-4889-9fe7-37433ed7faa2-cinder \n",
      " [46]\t15:59:00 23/09/2019 [Mon] \tdscstrato-backup.37152.volume-dec1c66e-9c4a-4889-9fe7-37433ed7faa2-cinder \n",
      " [47]\t16:04:00 23/09/2019 [Mon] \tdscstrato-backup.37153.volume-dec1c66e-9c4a-4889-9fe7-37433ed7faa2-cinder \n",
      " [48]\t16:09:00 23/09/2019 [Mon] \tdscstrato-backup.37154.volume-dec1c66e-9c4a-4889-9fe7-37433ed7faa2-cinder \n",
      " [49]\t16:14:00 23/09/2019 [Mon] \tdscstrato-backup.37155.volume-dec1c66e-9c4a-4889-9fe7-37433ed7faa2-cinder \n",
      " [50]\t16:19:00 23/09/2019 [Mon] \tdscstrato-backup.37156.volume-dec1c66e-9c4a-4889-9fe7-37433ed7faa2-cinder \n",
      " [51]\t16:24:00 23/09/2019 [Mon] \tdscstrato-backup.37157.volume-dec1c66e-9c4a-4889-9fe7-37433ed7faa2-cinder \n",
      " [52]\t16:29:00 23/09/2019 [Mon] \tdscstrato-backup.37158.volume-dec1c66e-9c4a-4889-9fe7-37433ed7faa2-cinder \n",
      " [53]\t16:34:00 23/09/2019 [Mon] \tdscstrato-backup.37159.volume-dec1c66e-9c4a-4889-9fe7-37433ed7faa2-cinder \n",
      " [54]\t16:39:00 23/09/2019 [Mon] \tdscstrato-backup.37160.volume-dec1c66e-9c4a-4889-9fe7-37433ed7faa2-cinder \n",
      " [55]\t16:44:00 23/09/2019 [Mon] \tdscstrato-backup.37161.volume-dec1c66e-9c4a-4889-9fe7-37433ed7faa2-cinder \n",
      " [56]\t16:49:00 23/09/2019 [Mon] \tdscstrato-backup.37162.volume-dec1c66e-9c4a-4889-9fe7-37433ed7faa2-cinder \n",
      " [57]\t16:54:00 23/09/2019 [Mon] \tdscstrato-backup.37163.volume-dec1c66e-9c4a-4889-9fe7-37433ed7faa2-cinder \n",
      " [58]\t16:59:00 23/09/2019 [Mon] \tdscstrato-backup.37164.volume-dec1c66e-9c4a-4889-9fe7-37433ed7faa2-cinder \n",
      " [59]\t17:04:00 23/09/2019 [Mon] \tdscstrato-backup.37165.volume-dec1c66e-9c4a-4889-9fe7-37433ed7faa2-cinder \n",
      " [60]\t17:09:00 23/09/2019 [Mon] \tdscstrato-backup.37166.volume-dec1c66e-9c4a-4889-9fe7-37433ed7faa2-cinder \n",
      " [61]\t17:14:00 23/09/2019 [Mon] \tdscstrato-backup.37167.volume-dec1c66e-9c4a-4889-9fe7-37433ed7faa2-cinder \n"
     ]
    }
   ],
   "source": [
    "# Get snapshots\n",
    "print(\"[RECOVERY POINT] Identifying recovery/restore point for DB [{}].\".format(dbs_id))\n",
    "snapshots = array.get_volume(\"volume-\" + db_vm_data_vol_id + \"-cinder\", snap=\"True\")\n",
    "try:\n",
    "    count = 0\n",
    "    print(u\" [\\u2713] Snapshot/s exist for the source volume.\")\n",
    "    for snapshot in snapshots:\n",
    "        count = count + 1\n",
    "        time_utc = datetime.datetime.strptime(snapshot.get(\"created\"), \"%Y-%m-%dT%H:%M:%SZ\")\n",
    "        time_utc = tz_utc.localize(time_utc, is_dst=None)\n",
    "        snaptime = time_utc.astimezone(timezone(\"Africa/Johannesburg\"))\n",
    "        time = \"{} [{}]\".format(snaptime.strftime(\"%H:%M:%S %d/%m/%Y\"),current_day[snaptime.isoweekday()])\n",
    "        print(\" [{}]\\t{} \\t{} \".format(str(count), time, snapshot.get(\"name\")))\n",
    "except:\n",
    "    print(u\"[\\u2717] There are no snapshots for the source volume.\\n\\tPlease check that it is protected.\")\n",
    "    exit()"
   ]
  },
  {
   "cell_type": "code",
   "execution_count": 10,
   "metadata": {},
   "outputs": [
    {
     "name": "stdout",
     "output_type": "stream",
     "text": [
      "[>] Please enter the number of the snapshot you'd like to restore data from: 61\n",
      " [✓] Snapshot to be used - [61] - 17:14:00 23/09/2019 [Mon]\n"
     ]
    }
   ],
   "source": [
    "# Select snapshot to deploy from\n",
    "try:\n",
    "    answer = input(\"[>] Please enter the number of the snapshot you'd like to restore data from: \")\n",
    "    snapshot = snapshots[answer-1]\n",
    "except:\n",
    "    print(u\" [\\u2717] Invalid entry. Please try again.\")\n",
    "    sys.exit()\n",
    "time_utc = datetime.datetime.strptime(snapshot.get(\"created\"), \"%Y-%m-%dT%H:%M:%SZ\")\n",
    "time_utc = tz_utc.localize(time_utc, is_dst=None)\n",
    "snaptime = time_utc.astimezone(timezone(\"Africa/Johannesburg\"))\n",
    "time = \"{} [{}]\".format(snaptime.strftime(\"%H:%M:%S %d/%m/%Y\"),current_day[snaptime.isoweekday()])\n",
    "print(u\" [\\u2713] Snapshot to be used - [{}] - {}\".format(answer, time))"
   ]
  },
  {
   "cell_type": "code",
   "execution_count": 11,
   "metadata": {},
   "outputs": [
    {
     "name": "stdout",
     "output_type": "stream",
     "text": [
      "[NEW DB DEPLOYMENT] Finalizing new DB.\n",
      " [✓] A new DB called [dbs_postgresql11_01-recovery-20190923-1714] will be created from data in the DB [dbs_postgresql11_01] at 17:14:00 23/09/2019 [Mon] \n",
      "[>] Please type \"confirm\" to create the DB: confirm\n"
     ]
    }
   ],
   "source": [
    "# Configuring parameters for new DB\n",
    "print(\"[NEW DB DEPLOYMENT] Finalizing new DB.\")\n",
    "dbs_instance_name_new = \"{}-recovery-{}\".format(dbs_original_name,snaptime.strftime(\"%Y%m%d-%H%M\"))\n",
    "print(u\" [\\u2713] A new DB called [{}] will be created from data in the DB [{}] at {} \".format(\n",
    "    dbs_instance_name_new,\n",
    "    dbs_original_name,\n",
    "    time\n",
    "))\n",
    "answer = raw_input(\"[>] Please type \\\"confirm\\\" to create the DB: \").lower()\n",
    "if answer != \"confirm\":\n",
    "    print(u\" [\\u2717] Process Cancelled - Nothing will be done.\")\n",
    "    exit()"
   ]
  },
  {
   "cell_type": "code",
   "execution_count": 12,
   "metadata": {},
   "outputs": [
    {
     "name": "stdout",
     "output_type": "stream",
     "text": [
      " [✓] Creating a volume from selected recovery point (snapshot) on the Pure Storage Array. NAME [temp_recovery_volume_20190923-1714]\n"
     ]
    }
   ],
   "source": [
    "# Generating the data volume and import to Stratoscale\n",
    "try:\n",
    "    volumename = \"temp_recovery_volume_{}\".format(snaptime.strftime(\"%Y%m%d-%H%M\"))\n",
    "    response = array.copy_volume(snapshot.get(\"name\"), volumename)\n",
    "    print(u\" [\\u2713] Creating a volume from selected recovery point (snapshot) on the Pure Storage Array. NAME [{}]\".format(volumename))\n",
    "except:\n",
    "    print(u\" [\\u2717] Could not create a volume from selected recovery point (snapshot) on the Pure Storage Array. Please try again.\")\n",
    "    exit()"
   ]
  },
  {
   "cell_type": "code",
   "execution_count": 13,
   "metadata": {},
   "outputs": [
    {
     "name": "stdout",
     "output_type": "stream",
     "text": [
      " [✓] The volume [temp_recovery_volume_20190923-1714] was imported  into Stratosacle and renamed to [dbs_postgresql11_01-recovery-20190923-1714 - Data]. ID [32b58cf5-deaa-493d-be58-910c7b73e412]\n"
     ]
    }
   ],
   "source": [
    "# Import volume for use in Stratoscale\n",
    "try:\n",
    "    response = client_admin.meletvolumes.manage(name=\"{} - Data\".format(dbs_instance_name_new), \n",
    "                           storage_pool=dbs_storage_pool_id,\n",
    "                           reference = {\"name\" : volumename},\n",
    "                           description=\"A restored Data volume for {}\".format(dbs_instance_name_new),\n",
    "                           project_id=dbs_project_id\n",
    "                          )\n",
    "    volume_id = response.get(\"id\")\n",
    "    print(u\" [\\u2713] The volume [{}] was imported into Stratosacle and renamed to [{}]. ID [{}]\".format(volumename, \"{} - Data\".format(dbs_instance_name_new), volume_id))\n",
    "except:\n",
    "    try:\n",
    "        array.destroy_volume(volumename)\n",
    "        array.eradicate_volume(volumename)\n",
    "    except:\n",
    "        print(u\" [\\u2717] Could not remove the volume. It may not \")\n",
    "    print(u\" [\\u2717] Could not import the volume. Please try again.\")\n",
    "    exit()"
   ]
  },
  {
   "cell_type": "code",
   "execution_count": 14,
   "metadata": {},
   "outputs": [
    {
     "name": "stdout",
     "output_type": "stream",
     "text": [
      " [✓] The database [dbs_postgresql11_01-recovery-20190923-1714] has been started. Please log in to check status\n"
     ]
    }
   ],
   "source": [
    "# Create a DB using the new data volume and existing settings.\n",
    "try:\n",
    "    response = client.dbs.instance.create(engine_version_id=dbs_engine_version_id,\n",
    "                           name=dbs_instance_name_new,\n",
    "                           storage_pool_id=dbs_storage_pool_id,\n",
    "                           network_id=dbs_network_id,\n",
    "                           master_user_name=dbs_master_username,\n",
    "                           master_user_password=dbs_master_password,\n",
    "                           sec_groups=dbs_security_group_id,\n",
    "                           param_group_id=dbs_parameter_group_id,\n",
    "                           instance_type=dbs_instance_type,\n",
    "                           volume_id=volume_id,\n",
    "                           is_external=True)\n",
    "    print(u\" [\\u2713] The database [{}] has been started. Please log in to check status\".format(dbs_instance_name_new))\n",
    "except:\n",
    "    print(u\" [\\u2717] The database [{}] could not be started.\".format(dbs_instance_name_new))\n",
    "    \n",
    "    "
   ]
  },
  {
   "cell_type": "code",
   "execution_count": 15,
   "metadata": {},
   "outputs": [],
   "source": [
    "# Disconnect sessions\n",
    "array.invalidate_cookie()"
   ]
  }
 ],
 "metadata": {
  "kernelspec": {
   "display_name": "Python 2",
   "language": "python",
   "name": "python2"
  },
  "language_info": {
   "codemirror_mode": {
    "name": "ipython",
    "version": 2
   },
   "file_extension": ".py",
   "mimetype": "text/x-python",
   "name": "python",
   "nbconvert_exporter": "python",
   "pygments_lexer": "ipython2",
   "version": "2.7.5"
  }
 },
 "nbformat": 4,
 "nbformat_minor": 2
}
